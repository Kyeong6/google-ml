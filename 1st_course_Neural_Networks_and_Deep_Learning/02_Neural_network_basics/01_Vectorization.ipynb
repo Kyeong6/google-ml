{
 "cells": [
  {
   "cell_type": "markdown",
   "id": "230e4af7",
   "metadata": {},
   "source": [
    "## Vectorization\n",
    "\n",
    "- 왜 벡터화를 진행하는 걸까?\n",
    "딥러닝에서는 많은 훈련 예제가 존재하는 데 이를 for-loop를 사용해서 훈련시키는 것은 비효율적이다. 그래서 이를 해결하는 방법으로 **벡터화**를 진행한다."
   ]
  },
  {
   "cell_type": "code",
   "execution_count": 1,
   "id": "cb5c5dd9",
   "metadata": {},
   "outputs": [
    {
     "name": "stdout",
     "output_type": "stream",
     "text": [
      "[1 2 3 4]\n"
     ]
    }
   ],
   "source": [
    "import numpy as np\n",
    "\n",
    "a = np.array([1,2,3,4])\n",
    "print(a)"
   ]
  },
  {
   "cell_type": "markdown",
   "id": "ceee9202",
   "metadata": {},
   "source": [
    "### 벡터화 vs 비벡터화\n",
    "\n",
    "- 아래 예제를 통해 numpy를 사용한 벡터화가 for-loop를 사용한 비벡터화보다 큰 차이로 빠르다는 것을 확인할 수 있다. 이는 많은 훈련 예제가 존재한다면 격차는 더 커질 것이다."
   ]
  },
  {
   "cell_type": "code",
   "execution_count": 6,
   "id": "1647bc63",
   "metadata": {},
   "outputs": [
    {
     "name": "stdout",
     "output_type": "stream",
     "text": [
      "vectorized version: 0.3409385681152344ms\n"
     ]
    }
   ],
   "source": [
    "# 벡터화 예제\n",
    "import time\n",
    "\n",
    "a = np.random.rand(100000)\n",
    "b = np.random.rand(100000)\n",
    "\n",
    "tic = time.time()\n",
    "c = np.dot(a,b)\n",
    "toc = time.time()\n",
    "\n",
    "print(\"vectorized version: \" + str(1000*(toc-tic)) + \"ms\")"
   ]
  },
  {
   "cell_type": "code",
   "execution_count": 8,
   "id": "d8e47cb6",
   "metadata": {},
   "outputs": [
    {
     "name": "stdout",
     "output_type": "stream",
     "text": [
      "for-loop: 44.33393478393555ms\n"
     ]
    }
   ],
   "source": [
    "# 비벡터화 예제\n",
    "c = 0\n",
    "tic = time.time()\n",
    "for i in range(100000):\n",
    "    c += a[i]*b[i]\n",
    "toc = time.time()\n",
    "\n",
    "print(\"for-loop: \" + str(1000*(toc-tic)) + \"ms\")"
   ]
  }
 ],
 "metadata": {
  "kernelspec": {
   "display_name": "gmb",
   "language": "python",
   "name": "gmb"
  },
  "language_info": {
   "codemirror_mode": {
    "name": "ipython",
    "version": 3
   },
   "file_extension": ".py",
   "mimetype": "text/x-python",
   "name": "python",
   "nbconvert_exporter": "python",
   "pygments_lexer": "ipython3",
   "version": "3.11.5"
  }
 },
 "nbformat": 4,
 "nbformat_minor": 5
}
