{
 "cells": [
  {
   "cell_type": "markdown",
   "id": "230e4af7",
   "metadata": {},
   "source": [
    "## Vectorization\n",
    "\n",
    "- 왜 벡터화를 진행하는 걸까?\n",
    "딥러닝에서는 많은 훈련 예제가 존재하는 데 이를 for-loop를 사용해서 훈련시키는 것은 비효율적이다. 그래서 이를 해결하는 방법으로 **벡터화**를 진행한다."
   ]
  },
  {
   "cell_type": "code",
   "execution_count": 1,
   "id": "cb5c5dd9",
   "metadata": {},
   "outputs": [
    {
     "name": "stdout",
     "output_type": "stream",
     "text": [
      "[1 2 3 4]\n"
     ]
    }
   ],
   "source": [
    "import numpy as np\n",
    "\n",
    "a = np.array([1,2,3,4])\n",
    "print(a)"
   ]
  },
  {
   "cell_type": "markdown",
   "id": "ceee9202",
   "metadata": {},
   "source": [
    "### 벡터화 vs 비벡터화\n",
    "\n",
    "- 아래 예제를 통해 numpy를 사용한 벡터화가 for-loop를 사용한 비벡터화보다 큰 차이로 빠르다는 것을 확인할 수 있다. 이는 많은 훈련 예제가 존재한다면 격차는 더 커질 것이다."
   ]
  },
  {
   "cell_type": "code",
   "execution_count": 6,
   "id": "1647bc63",
   "metadata": {},
   "outputs": [
    {
     "name": "stdout",
     "output_type": "stream",
     "text": [
      "vectorized version: 0.3409385681152344ms\n"
     ]
    }
   ],
   "source": [
    "# 벡터화 예제\n",
    "import time\n",
    "\n",
    "a = np.random.rand(100000)\n",
    "b = np.random.rand(100000)\n",
    "\n",
    "tic = time.time()\n",
    "c = np.dot(a,b)\n",
    "toc = time.time()\n",
    "\n",
    "print(\"vectorized version: \" + str(1000*(toc-tic)) + \"ms\")"
   ]
  },
  {
   "cell_type": "code",
   "execution_count": 8,
   "id": "d8e47cb6",
   "metadata": {},
   "outputs": [
    {
     "name": "stdout",
     "output_type": "stream",
     "text": [
      "for-loop: 44.33393478393555ms\n"
     ]
    }
   ],
   "source": [
    "# 비벡터화 예제\n",
    "c = 0\n",
    "tic = time.time()\n",
    "for i in range(100000):\n",
    "    c += a[i]*b[i]\n",
    "toc = time.time()\n",
    "\n",
    "print(\"for-loop: \" + str(1000*(toc-tic)) + \"ms\")"
   ]
  },
  {
   "cell_type": "markdown",
   "id": "c47a0d4f",
   "metadata": {},
   "source": [
    "## More vectorization examples\n",
    "\n",
    "- 명심할 것은 for-loop를 피해야한다는 것이다.\n",
    "- numpy의 내장함수를 잘 활용하자"
   ]
  },
  {
   "cell_type": "markdown",
   "id": "76513635",
   "metadata": {},
   "source": [
    "#### Logistic regression derivatives vectorization 구현\n",
    "\n",
    "![./images/1.png](./images/1.png)"
   ]
  },
  {
   "cell_type": "markdown",
   "id": "14066976",
   "metadata": {},
   "source": [
    "![%E1%84%89%E1%85%B3%E1%84%8F%E1%85%B3%E1%84%85%E1%85%B5%E1%86%AB%E1%84%89%E1%85%A3%E1%86%BA%202024-07-03%20%E1%84%8B%E1%85%A9%E1%84%92%E1%85%AE%202.03.58.png](./images/2.png)   \n",
    "\n",
    "여기서 왜 dZ를 전치하였을까? 다음 식을 보면 알겠지만, 최종적인 형태를 맞추기 위해서 dZ 전치를 수행"
   ]
  },
  {
   "cell_type": "markdown",
   "id": "149d872b",
   "metadata": {},
   "source": [
    "#### Implementing\n",
    "![%E1%84%89%E1%85%B3%E1%84%8F%E1%85%B3%E1%84%85%E1%85%B5%E1%86%AB%E1%84%89%E1%85%A3%E1%86%BA%202024-07-03%20%E1%84%8B%E1%85%A9%E1%84%92%E1%85%AE%202.05.21.png](./images/3.png)   \n",
    "해당 과정을 여러 번의 기울기 하강(Gradient descent)위해서는 for-loop가 필요할 수 있다."
   ]
  },
  {
   "cell_type": "markdown",
   "id": "8089bf44",
   "metadata": {},
   "source": [
    "## Broadcasting in Python\n",
    "\n",
    "![%E1%84%89%E1%85%B3%E1%84%8F%E1%85%B3%E1%84%85%E1%85%B5%E1%86%AB%E1%84%89%E1%85%A3%E1%86%BA%202024-07-03%20%E1%84%8B%E1%85%A9%E1%84%92%E1%85%AE%202.28.09.png](./images/4.png)"
   ]
  },
  {
   "cell_type": "markdown",
   "id": "b6b9a97b",
   "metadata": {},
   "source": [
    "![%E1%84%89%E1%85%B3%E1%84%8F%E1%85%B3%E1%84%85%E1%85%B5%E1%86%AB%E1%84%89%E1%85%A3%E1%86%BA%202024-07-03%20%E1%84%8B%E1%85%A9%E1%84%92%E1%85%AE%202.30.19.png](./images/5.png)"
   ]
  },
  {
   "cell_type": "code",
   "execution_count": 2,
   "id": "8b46808c",
   "metadata": {},
   "outputs": [
    {
     "name": "stdout",
     "output_type": "stream",
     "text": [
      "[[ 56.    0.    4.4  68. ]\n",
      " [  1.2 104.   52.    8. ]\n",
      " [  1.8 135.   99.    0.9]]\n"
     ]
    }
   ],
   "source": [
    "import numpy as np\n",
    "\n",
    "A = np.array([[56.0 ,0.0, 4.4, 68.0],\n",
    "             [1.2, 104.0, 52.0, 8.0],\n",
    "             [1.8, 135.0, 99.0, 0.9]])\n",
    "\n",
    "print(A)"
   ]
  },
  {
   "cell_type": "code",
   "execution_count": 3,
   "id": "615ac94b",
   "metadata": {},
   "outputs": [
    {
     "name": "stdout",
     "output_type": "stream",
     "text": [
      "[ 59.  239.  155.4  76.9]\n"
     ]
    }
   ],
   "source": [
    "cal = A.sum(axis=0)\n",
    "print(cal)"
   ]
  },
  {
   "cell_type": "code",
   "execution_count": 7,
   "id": "849a9d9d",
   "metadata": {},
   "outputs": [
    {
     "name": "stdout",
     "output_type": "stream",
     "text": [
      "[[94.91525424  0.          2.83140283 88.42652796]\n",
      " [ 2.03389831 43.51464435 33.46203346 10.40312094]\n",
      " [ 3.05084746 56.48535565 63.70656371  1.17035111]]\n"
     ]
    }
   ],
   "source": [
    "# 브로드 캐스팅 예시\n",
    "# A/cal.reshape(1,4)를 안 해줘도 된다\n",
    "# 어떻게 A(3,4)와 cal(1,4)계산이 가능한가? Broadcasting!\n",
    "percentage = 100*A/cal\n",
    "print(percentage)"
   ]
  },
  {
   "cell_type": "markdown",
   "id": "7cb80810",
   "metadata": {},
   "source": [
    "## Python, numpy vectors"
   ]
  },
  {
   "cell_type": "code",
   "execution_count": 9,
   "id": "5883c8dc",
   "metadata": {},
   "outputs": [
    {
     "name": "stdout",
     "output_type": "stream",
     "text": [
      "(5,)\n"
     ]
    }
   ],
   "source": [
    "# 1차원 배열, 해당 배열을 사용하지 않기 \n",
    "a = np.random.randn(5)\n",
    "print(a.shape)"
   ]
  },
  {
   "cell_type": "code",
   "execution_count": 10,
   "id": "2b99b27d",
   "metadata": {},
   "outputs": [
    {
     "name": "stdout",
     "output_type": "stream",
     "text": [
      "(5, 1)\n"
     ]
    }
   ],
   "source": [
    "# 해당 방식으로 배열 생성 권장\n",
    "a = np.random.randn(5,1)\n",
    "print(a.shape)"
   ]
  },
  {
   "cell_type": "code",
   "execution_count": 11,
   "id": "4339eb77",
   "metadata": {},
   "outputs": [],
   "source": [
    "# assert를 사용하여 차원 명시 \n",
    "assert(a.shape == (5,1))"
   ]
  }
 ],
 "metadata": {
  "kernelspec": {
   "display_name": "gmb",
   "language": "python",
   "name": "gmb"
  },
  "language_info": {
   "codemirror_mode": {
    "name": "ipython",
    "version": 3
   },
   "file_extension": ".py",
   "mimetype": "text/x-python",
   "name": "python",
   "nbconvert_exporter": "python",
   "pygments_lexer": "ipython3",
   "version": "3.11.5"
  }
 },
 "nbformat": 4,
 "nbformat_minor": 5
}
